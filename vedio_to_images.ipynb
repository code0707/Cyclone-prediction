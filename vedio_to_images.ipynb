{
 "cells": [
  {
   "cell_type": "code",
   "execution_count": 5,
   "metadata": {},
   "outputs": [
    {
     "name": "stdout",
     "output_type": "stream",
     "text": [
      "Collecting moviepy\n",
      "  Downloading moviepy-1.0.2.tar.gz (7.8 MB)\n",
      "Collecting decorator<5.0,>=4.0.2\n",
      "  Downloading decorator-4.4.2-py2.py3-none-any.whl (9.2 kB)\n",
      "Requirement already satisfied: tqdm<5.0,>=4.11.2 in c:\\users\\kiit\\appdata\\local\\programs\\python\\python37\\lib\\site-packages (from moviepy) (4.46.0)\n",
      "Requirement already satisfied: requests<3.0,>=2.8.1 in c:\\users\\kiit\\appdata\\local\\programs\\python\\python37\\lib\\site-packages (from moviepy) (2.23.0)\n",
      "Collecting proglog<=1.0.0\n",
      "  Downloading proglog-0.1.9.tar.gz (10 kB)\n",
      "Requirement already satisfied: numpy>=1.17.3 in c:\\users\\kiit\\appdata\\local\\programs\\python\\python37\\lib\\site-packages (from moviepy) (1.18.4)\n",
      "Collecting imageio<3.0,>=2.5\n",
      "  Downloading imageio-2.8.0-py3-none-any.whl (3.3 MB)\n",
      "Collecting imageio_ffmpeg>=0.2.0\n",
      "  Downloading imageio_ffmpeg-0.4.1-py3-none-win_amd64.whl (21.0 MB)\n",
      "Requirement already satisfied: chardet<4,>=3.0.2 in c:\\users\\kiit\\appdata\\local\\programs\\python\\python37\\lib\\site-packages (from requests<3.0,>=2.8.1->moviepy) (3.0.4)\n",
      "Requirement already satisfied: certifi>=2017.4.17 in c:\\users\\kiit\\appdata\\local\\programs\\python\\python37\\lib\\site-packages (from requests<3.0,>=2.8.1->moviepy) (2020.4.5.1)\n",
      "Requirement already satisfied: urllib3!=1.25.0,!=1.25.1,<1.26,>=1.21.1 in c:\\users\\kiit\\appdata\\local\\programs\\python\\python37\\lib\\site-packages (from requests<3.0,>=2.8.1->moviepy) (1.25.9)\n",
      "Requirement already satisfied: idna<3,>=2.5 in c:\\users\\kiit\\appdata\\local\\programs\\python\\python37\\lib\\site-packages (from requests<3.0,>=2.8.1->moviepy) (2.9)\n",
      "Collecting pillow\n",
      "  Downloading Pillow-7.1.2-cp37-cp37m-win_amd64.whl (2.0 MB)\n",
      "Building wheels for collected packages: moviepy, proglog\n",
      "  Building wheel for moviepy (setup.py): started\n",
      "  Building wheel for moviepy (setup.py): finished with status 'done'\n",
      "  Created wheel for moviepy: filename=moviepy-1.0.2-py3-none-any.whl size=110733 sha256=91af37a3239e8d09774badf00f01609fbd1344f6f3246b7c41883916e4417b29\n",
      "  Stored in directory: c:\\users\\kiit\\appdata\\local\\pip\\cache\\wheels\\f0\\36\\f2\\32c37d2b7a4f04622ccec875f71ebf5f33f892cea410f26454\n",
      "  Building wheel for proglog (setup.py): started\n",
      "  Building wheel for proglog (setup.py): finished with status 'done'\n",
      "  Created wheel for proglog: filename=proglog-0.1.9-py3-none-any.whl size=6152 sha256=de032dd0e72bac190319e9e608536aa5b233ae69ad4d6b336bacda2c0bc6dd81\n",
      "  Stored in directory: c:\\users\\kiit\\appdata\\local\\pip\\cache\\wheels\\12\\36\\1f\\dc61e6ac10781d63cf6fa045eb09fa613a667384e12cb6e6e0\n",
      "Successfully built moviepy proglog\n",
      "Installing collected packages: decorator, proglog, pillow, imageio, imageio-ffmpeg, moviepy\n",
      "Successfully installed decorator-4.4.2 imageio-2.8.0 imageio-ffmpeg-0.4.1 moviepy-1.0.2 pillow-7.1.2 proglog-0.1.9\n"
     ]
    },
    {
     "name": "stderr",
     "output_type": "stream",
     "text": [
      "WARNING: pip is being invoked by an old script wrapper. This will fail in a future version of pip.\n",
      "Please see https://github.com/pypa/pip/issues/5599 for advice on fixing the underlying issue.\n",
      "To avoid this problem you can invoke Python with '-m pip' instead of running pip directly.\n",
      "  WARNING: The scripts imageio_download_bin.exe and imageio_remove_bin.exe are installed in 'C:\\Users\\KIIT\\AppData\\Roaming\\Python\\Python37\\Scripts' which is not on PATH.\n",
      "  Consider adding this directory to PATH or, if you prefer to suppress this warning, use --no-warn-script-location.\n"
     ]
    }
   ],
   "source": [
    "!pip3 install moviepy --user"
   ]
  },
  {
   "cell_type": "code",
   "execution_count": 3,
   "metadata": {},
   "outputs": [],
   "source": [
    "for i in range(365):\n",
    "    string = (str(i)+\"-\"+str(i+1))\n",
    "    l.append(string)"
   ]
  },
  {
   "cell_type": "code",
   "execution_count": 17,
   "metadata": {},
   "outputs": [],
   "source": [
    "from moviepy.video.io.ffmpeg_tools import ffmpeg_extract_subclip"
   ]
  },
  {
   "cell_type": "code",
   "execution_count": 31,
   "metadata": {},
   "outputs": [],
   "source": [
    "# Replace the filename below.\n",
    "required_video_file = \"dsc.mp4\""
   ]
  },
  {
   "cell_type": "code",
   "execution_count": 5,
   "metadata": {},
   "outputs": [],
   "source": [
    "names_list=[]"
   ]
  },
  {
   "cell_type": "code",
   "execution_count": 6,
   "metadata": {},
   "outputs": [],
   "source": [
    "for time in l:\n",
    "    starttime = float(time.split(\"-\")[0])\n",
    "    endtime = float(time.split(\"-\")[1])\n",
    "    ffmpeg_extract_subclip(required_video_file, starttime, endtime, targetname=str(l.index(time)+1)+\".mp4\")\n",
    "    names_list.append(str(l.index(time)+1)+\".mp4\")"
   ]
  },
  {
   "cell_type": "code",
   "execution_count": 7,
   "metadata": {},
   "outputs": [
    {
     "data": {
      "text/plain": [
       "'1.mp4'"
      ]
     },
     "execution_count": 7,
     "metadata": {},
     "output_type": "execute_result"
    }
   ],
   "source": [
    "names_list[0]"
   ]
  },
  {
   "cell_type": "code",
   "execution_count": 11,
   "metadata": {},
   "outputs": [
    {
     "data": {
      "text/plain": [
       "'1.mp4'"
      ]
     },
     "execution_count": 11,
     "metadata": {},
     "output_type": "execute_result"
    }
   ],
   "source": [
    "names_list[0]"
   ]
  },
  {
   "cell_type": "code",
   "execution_count": 34,
   "metadata": {},
   "outputs": [],
   "source": [
    "cyclone=[]"
   ]
  },
  {
   "cell_type": "code",
   "execution_count": 35,
   "metadata": {},
   "outputs": [],
   "source": [
    "for i in range(1,366):\n",
    "    if(i==72 or i==73 or i==202 or i==203 or i==204 or i==219 or i==220 or i==227 or i==228 or i==229 or i==249 or i==250 or i==262 or i==263 or i==264 or i==265 or i==281 or i==282 or i==283 or i==284 or i==285 or i==347 or i==348 or i==349 or i==350 or i==351):\n",
    "        cyclone.append(1)\n",
    "    else:\n",
    "        cyclone.append(0)"
   ]
  }
 ],
 "metadata": {
  "kernelspec": {
   "display_name": "Python 3",
   "language": "python",
   "name": "python3"
  },
  "language_info": {
   "codemirror_mode": {
    "name": "ipython",
    "version": 3
   },
   "file_extension": ".py",
   "mimetype": "text/x-python",
   "name": "python",
   "nbconvert_exporter": "python",
   "pygments_lexer": "ipython3",
   "version": "3.7.3"
  }
 },
 "nbformat": 4,
 "nbformat_minor": 4
}
